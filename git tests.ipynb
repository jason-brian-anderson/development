{
 "cells": [
  {
   "cell_type": "code",
   "execution_count": 1,
   "id": "6e8ca8ac",
   "metadata": {},
   "outputs": [
    {
     "name": "stdout",
     "output_type": "stream",
     "text": [
      "On branch master\r\n",
      "\r\n",
      "No commits yet\r\n",
      "\r\n",
      "Changes to be committed:\r\n",
      "  (use \"git rm --cached <file>...\" to unstage)\r\n",
      "\r\n",
      "\t\u001b[32mnew file:   .devcontainer/Dockerfile\u001b[m\r\n",
      "\t\u001b[32mnew file:   .devcontainer/devcontainer.json\u001b[m\r\n",
      "\t\u001b[32mnew file:   .devcontainer/noop.txt\u001b[m\r\n",
      "\t\u001b[32mnew file:   .ipynb_checkpoints/nvidia_tests-checkpoint.ipynb\u001b[m\r\n",
      "\t\u001b[32mnew file:   README.md\u001b[m\r\n",
      "\t\u001b[32mnew file:   nvidia_tests.ipynb\u001b[m\r\n",
      "\t\u001b[32mnew file:   requirements.txt\u001b[m\r\n",
      "\t\u001b[32mnew file:   start_jupyter.sh\u001b[m\r\n",
      "\r\n",
      "Changes not staged for commit:\r\n",
      "  (use \"git add <file>...\" to update what will be committed)\r\n",
      "  (use \"git checkout -- <file>...\" to discard changes in working directory)\r\n",
      "\r\n",
      "\t\u001b[31mmodified:   .devcontainer/Dockerfile\u001b[m\r\n",
      "\r\n",
      "Untracked files:\r\n",
      "  (use \"git add <file>...\" to include in what will be committed)\r\n",
      "\r\n",
      "\t\u001b[31m.ipynb_checkpoints/Untitled-checkpoint.ipynb\u001b[m\r\n",
      "\t\u001b[31mUntitled.ipynb\u001b[m\r\n",
      "\r\n"
     ]
    }
   ],
   "source": [
    "!git status"
   ]
  },
  {
   "cell_type": "code",
   "execution_count": null,
   "id": "e5361225",
   "metadata": {},
   "outputs": [],
   "source": []
  }
 ],
 "metadata": {
  "kernelspec": {
   "display_name": "Python 3 (ipykernel)",
   "language": "python",
   "name": "python3"
  },
  "language_info": {
   "codemirror_mode": {
    "name": "ipython",
    "version": 3
   },
   "file_extension": ".py",
   "mimetype": "text/x-python",
   "name": "python",
   "nbconvert_exporter": "python",
   "pygments_lexer": "ipython3",
   "version": "3.10.8"
  }
 },
 "nbformat": 4,
 "nbformat_minor": 5
}
